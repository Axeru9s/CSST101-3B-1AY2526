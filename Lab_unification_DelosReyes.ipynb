{
  "nbformat": 4,
  "nbformat_minor": 0,
  "metadata": {
    "colab": {
      "provenance": [],
      "authorship_tag": "ABX9TyPXO2YIprw15/q9L1Ze1/Wa",
      "include_colab_link": true
    },
    "kernelspec": {
      "name": "python3",
      "display_name": "Python 3"
    },
    "language_info": {
      "name": "python"
    }
  },
  "cells": [
    {
      "cell_type": "markdown",
      "metadata": {
        "id": "view-in-github",
        "colab_type": "text"
      },
      "source": [
        "<a href=\"https://colab.research.google.com/github/Axeru9s/CSST101-3B-1AY2526/blob/main/Lab_unification_DelosReyes.ipynb\" target=\"_parent\"><img src=\"https://colab.research.google.com/assets/colab-badge.svg\" alt=\"Open In Colab\"/></a>"
      ]
    },
    {
      "cell_type": "markdown",
      "source": [
        "1. Unification Checker"
      ],
      "metadata": {
        "id": "6HoAB7kaodzd"
      }
    },
    {
      "cell_type": "code",
      "execution_count": 3,
      "metadata": {
        "colab": {
          "base_uri": "https://localhost:8080/"
        },
        "id": "VKfM8O7-nvXQ",
        "outputId": "cc8a4ee6-109d-44f8-b420-c14d28cdc897"
      },
      "outputs": [
        {
          "output_type": "stream",
          "name": "stdout",
          "text": [
            "{'x': 'y'}\n",
            "Cannot be unified\n"
          ]
        }
      ],
      "source": [
        "def unify(p1, p2):\n",
        "    f1, f2 = p1.split(\"(\")[0], p2.split(\"(\")[0]\n",
        "    if f1 != f2: return \"Cannot be unified\"\n",
        "\n",
        "    a1, a2 = p1[p1.find(\"(\")+1:-1].split(\",\"), p2[p2.find(\"(\")+1:-1].split(\",\")\n",
        "    if len(a1) != len(a2): return \"Cannot be unified\"\n",
        "\n",
        "    subs = {}\n",
        "    for x, y in zip(a1, a2):\n",
        "        x, y = x.strip(), y.strip()\n",
        "        if x == y: continue\n",
        "        if x.islower(): subs[x] = y\n",
        "        elif y.islower(): subs[y] = x\n",
        "        else: return \"Cannot be unified\"\n",
        "\n",
        "    return subs or \"Already unified\"\n",
        "\n",
        "# Test\n",
        "print(unify(\"Parent(John, x)\", \"Parent(John, y)\"))\n",
        "print(unify(\"Knows(John, x) \", \"Knows(Mary, y)\"))\n"
      ]
    },
    {
      "cell_type": "markdown",
      "source": [
        "2. Forward Chaining"
      ],
      "metadata": {
        "id": "fc0cZD41obps"
      }
    },
    {
      "cell_type": "code",
      "source": [
        "facts = {\"Human(Socrates)\", \"Human(Plato)\"}\n",
        "rules = [(\"Human\", \"Mortal\"), (\"Mortal\", \"Dies\"), (\"Dies\",\"Decompose\"), (\"Decompose\", \"Skeletonization\")]\n",
        "\n",
        "def fact_sort_key(fact):\n",
        "    predicate = fact.split(\"(\")[0]\n",
        "    try:\n",
        "        return [r[0] for r in rules].index(predicate)\n",
        "    except ValueError:\n",
        "        return len(rules)\n",
        "\n",
        "\n",
        "for p, c in rules:\n",
        "    new_facts = set()\n",
        "    for f in list(facts):\n",
        "        if f.startswith(p):\n",
        "            name = f[f.find(\"(\")+1:-1]\n",
        "            new_facts.add(f\"{c}({name})\")\n",
        "    if new_facts:\n",
        "        facts.update(new_facts)\n",
        "    else:\n",
        "       pass\n",
        "\n",
        "\n",
        "print(\"Final facts:\", sorted(list(facts), key=fact_sort_key))"
      ],
      "metadata": {
        "colab": {
          "base_uri": "https://localhost:8080/"
        },
        "id": "TWVUvqKzoIAE",
        "outputId": "8945c2de-b851-47dd-f85a-e70aa1f3aef8"
      },
      "execution_count": 8,
      "outputs": [
        {
          "output_type": "stream",
          "name": "stdout",
          "text": [
            "Final facts: ['Human(Plato)', 'Human(Socrates)', 'Mortal(Plato)', 'Mortal(Socrates)', 'Dies(Plato)', 'Dies(Socrates)', 'Decompose(Plato)', 'Decompose(Socrates)', 'Skeletonization(Plato)', 'Skeletonization(Socrates)']\n"
          ]
        }
      ]
    },
    {
      "cell_type": "markdown",
      "source": [
        "3. Backward Chaining"
      ],
      "metadata": {
        "id": "vd7ojX1toXy8"
      }
    },
    {
      "cell_type": "code",
      "source": [
        "facts = {\"Student(Carlos)\", \"Studies(Carlos)\", \"Submits(Carlos, IT101)\"}\n",
        "premises = [\"Studies(x)\", \"Submits(x, IT101)\"]\n",
        "conclusion = \"Passed(x, IT101)\"\n",
        "\n",
        "def prove(goal):\n",
        "    if goal in facts: return True\n",
        "    if goal.startswith(\"Passed(\"):\n",
        "        name = goal[goal.find(\"(\")+1:goal.find(\",\")]\n",
        "        return all(prove(p.replace(\"x\", name)) for p in premises)\n",
        "    return False\n",
        "\n",
        "print(\"Carlos Passed?\", prove(\"Passed(Carlos, IT101)\"))\n",
        "print(\"Ana Passed?\", prove(\"Passed(Ana, IT101)\"))\n"
      ],
      "metadata": {
        "colab": {
          "base_uri": "https://localhost:8080/"
        },
        "id": "BS7UpouxoK0U",
        "outputId": "bfe9b2e4-4f64-4945-fff1-79c188f7a0b3"
      },
      "execution_count": 2,
      "outputs": [
        {
          "output_type": "stream",
          "name": "stdout",
          "text": [
            "Carlos Passed? True\n",
            "Ana Passed? False\n"
          ]
        }
      ]
    }
  ]
}