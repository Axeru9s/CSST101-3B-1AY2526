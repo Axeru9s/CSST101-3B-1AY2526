{
  "nbformat": 4,
  "nbformat_minor": 0,
  "metadata": {
    "colab": {
      "provenance": [],
      "authorship_tag": "ABX9TyPOSB3xZSv7dySdSlcAfKue",
      "include_colab_link": true
    },
    "kernelspec": {
      "name": "python3",
      "display_name": "Python 3"
    },
    "language_info": {
      "name": "python"
    }
  },
  "cells": [
    {
      "cell_type": "markdown",
      "metadata": {
        "id": "view-in-github",
        "colab_type": "text"
      },
      "source": [
        "<a href=\"https://colab.research.google.com/github/Axeru9s/CSST101-3B-1AY2526/blob/main/DelosReyes_WeatherOutfitRecommender.ipynb\" target=\"_parent\"><img src=\"https://colab.research.google.com/assets/colab-badge.svg\" alt=\"Open In Colab\"/></a>"
      ]
    },
    {
      "cell_type": "code",
      "execution_count": 10,
      "metadata": {
        "colab": {
          "base_uri": "https://localhost:8080/"
        },
        "id": "etwHeKTq_yM8",
        "outputId": "64c4ee79-8fe6-4b36-d6ff-6eaa14087a21"
      },
      "outputs": [
        {
          "output_type": "stream",
          "name": "stdout",
          "text": [
            "What's the weather like today? (sunny/rainy/cold/windy/snowy): asdgf\n",
            "Weather type not recognized. Please enter sunny, rainy, cold, windy, or snowy.\n"
          ]
        }
      ],
      "source": [
        "\n",
        "weather = input(\"What's the weather like today? (sunny/rainy/cold/windy/snowy): \").lower()\n",
        "\n",
        "if weather == \"sunny\":\n",
        "    temp = float(input(\"What's the temperature in °C? \"))\n",
        "    if temp > 30:\n",
        "        print(\"Suggested outfit: Light t-shirt, shorts, sunglasses, and stay hydrated!\")\n",
        "    else:\n",
        "        print(\"Suggested outfit: Comfortable clothes and a cap to block the sun.\")\n",
        "\n",
        "elif weather == \"rainy\":\n",
        "    has_umbrella = input(\"Do you have an umbrella? (yes/no): \").lower()\n",
        "    if has_umbrella == \"yes\":\n",
        "        print(\"Suggested outfit: Bring your umbrella and wear waterproof shoes.\")\n",
        "    else:\n",
        "        print(\"Suggested outfit: Wear a raincoat or stay indoors if possible.\")\n",
        "\n",
        "elif weather == \"cold\":\n",
        "    temp = float(input(\"What's the temperature in °C? \"))\n",
        "    if temp < 15:\n",
        "        print(\"Suggested outfit: Wear a thick jacket, scarf, and gloves.\")\n",
        "    else:\n",
        "        print(\"Suggested outfit: A light sweater should be enough.\")\n",
        "\n",
        "elif weather == \"windy\":\n",
        "    outdoor = input(\"Are you going outdoors? (yes/no): \").lower()\n",
        "    if outdoor == \"yes\":\n",
        "        print(\"Suggested outfit: Wear a windbreaker and tie your hair up.\")\n",
        "    else:\n",
        "        print(\"Suggested outfit: Stay cozy indoors!\")\n",
        "\n",
        "elif weather == \"snowy\":\n",
        "    temp = float(input(\"What's the temperature in °C? \"))\n",
        "    if temp < 0:\n",
        "        print(\"Suggested outfit: Wear a heavy coat, boots, gloves, and hat.\")\n",
        "    else:\n",
        "        print(\"Suggested outfit: Warm layers and waterproof boots are recommended.\")\n",
        "\n",
        "else:\n",
        "    print(\"Weather type not recognized. Please enter sunny, rainy, cold, windy, or snowy.\")\n"
      ]
    }
  ]
}