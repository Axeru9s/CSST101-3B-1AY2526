{
  "nbformat": 4,
  "nbformat_minor": 0,
  "metadata": {
    "colab": {
      "provenance": [],
      "authorship_tag": "ABX9TyMNia/nk7Y0d3sCHNQb6ji7",
      "include_colab_link": true
    },
    "kernelspec": {
      "name": "python3",
      "display_name": "Python 3"
    },
    "language_info": {
      "name": "python"
    }
  },
  "cells": [
    {
      "cell_type": "markdown",
      "metadata": {
        "id": "view-in-github",
        "colab_type": "text"
      },
      "source": [
        "<a href=\"https://colab.research.google.com/github/Axeru9s/CSST101-3B-1AY2526/blob/main/Task_1_Belief_Revision_Simulation.ipynb\" target=\"_parent\"><img src=\"https://colab.research.google.com/assets/colab-badge.svg\" alt=\"Open In Colab\"/></a>"
      ]
    },
    {
      "cell_type": "code",
      "execution_count": 4,
      "metadata": {
        "colab": {
          "base_uri": "https://localhost:8080/"
        },
        "id": "zeHL4FC3H2qH",
        "outputId": "1960908a-1065-4f9b-9f66-42a5e12379a5"
      },
      "outputs": [
        {
          "output_type": "stream",
          "name": "stdout",
          "text": [
            "Enter an animal: penguin\n",
            "Input: penguin\n",
            "Reasoning: Birds are generally able to fly.\n",
            "However, penguins do not fly.\n",
            "Conclusion: penguins cannot fly.\n"
          ]
        }
      ],
      "source": [
        "# Belief Revision Simulation\n",
        "\n",
        "# Default rule: If an animal is a bird, assume it can fly.\n",
        "def can_it_fly(animal):\n",
        "    print(f\"Input: {animal}\")\n",
        "    print(\"Reasoning: Birds are generally able to fly.\")\n",
        "\n",
        "    bird_exceptions = [\"penguin\", \"ostrich\", \"kiwi\"]\n",
        "\n",
        "    if animal.lower() in bird_exceptions:\n",
        "        print(f\"However, {animal}s do not fly.\")\n",
        "        print(f\"Conclusion: {animal}s cannot fly.\")\n",
        "    else:\n",
        "        print(f\"No exception found for {animal}.\")\n",
        "        print(f\"Conclusion: {animal}s can fly.\")\n",
        "\n",
        "# Ask user for input\n",
        "animal_name = input(\"Enter an animal: \").strip().lower()\n",
        "can_it_fly(animal_name)\n"
      ]
    }
  ]
}