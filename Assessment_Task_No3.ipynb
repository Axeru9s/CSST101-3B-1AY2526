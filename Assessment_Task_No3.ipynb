{
  "nbformat": 4,
  "nbformat_minor": 0,
  "metadata": {
    "colab": {
      "provenance": [],
      "authorship_tag": "ABX9TyNdf1rfnYsFd15v2WMyj3XI",
      "include_colab_link": true
    },
    "kernelspec": {
      "name": "python3",
      "display_name": "Python 3"
    },
    "language_info": {
      "name": "python"
    }
  },
  "cells": [
    {
      "cell_type": "markdown",
      "metadata": {
        "id": "view-in-github",
        "colab_type": "text"
      },
      "source": [
        "<a href=\"https://colab.research.google.com/github/Axeru9s/CSST101-3B-1AY2526/blob/main/Assessment_Task_No3.ipynb\" target=\"_parent\"><img src=\"https://colab.research.google.com/assets/colab-badge.svg\" alt=\"Open In Colab\"/></a>"
      ]
    },
    {
      "cell_type": "markdown",
      "source": [
        "Part 1 - Unification"
      ],
      "metadata": {
        "id": "-cAS6ZZXiLoX"
      }
    },
    {
      "cell_type": "code",
      "execution_count": 1,
      "metadata": {
        "colab": {
          "base_uri": "https://localhost:8080/"
        },
        "id": "yjDADhuph_b5",
        "outputId": "a0a955d6-a8a5-42e1-c3ca-8434c01dfce5"
      },
      "outputs": [
        {
          "output_type": "stream",
          "name": "stdout",
          "text": [
            "Unification result: {'x': 'Ana'}\n"
          ]
        }
      ],
      "source": [
        "def unify(rule, fact):\n",
        "    r_pred = rule.split(\"(\")[0]\n",
        "    f_pred = fact.split(\"(\")[0]\n",
        "    if r_pred != f_pred:\n",
        "        return \"Cannot be unified\"\n",
        "\n",
        "    r_arg = rule[rule.find(\"(\")+1:-1].strip()\n",
        "    f_arg = fact[fact.find(\"(\")+1:-1].strip()\n",
        "\n",
        "    if r_arg.islower():  # variable\n",
        "        return {r_arg: f_arg}\n",
        "    elif f_arg.islower():  # variable\n",
        "        return {f_arg: r_arg}\n",
        "    elif r_arg == f_arg:  # same constant\n",
        "        return \"Already unified\"\n",
        "    else:\n",
        "        return \"Cannot be unified\"\n",
        "\n",
        "# Test\n",
        "print(\"Unification result:\", unify(\"Eligible(x)\", \"Eligible(Ana)\"))"
      ]
    },
    {
      "cell_type": "markdown",
      "source": [
        "Part 2 - Forward Chaining"
      ],
      "metadata": {
        "id": "lj7SMbjEiSb5"
      }
    },
    {
      "cell_type": "code",
      "source": [
        "# Facts\n",
        "facts = {\n",
        "    \"HighGrades(Juan)\", \"Applied(Juan)\",\n",
        "    \"HighGrades(Maria)\", \"DidNotApply(Maria)\",\n",
        "    \"StudentLeader(Carlos)\", \"NoHighGrades(Carlos)\",\n",
        "    \"HighGrades(Ana)\", \"StudentLeader(Ana)\", \"Applied(Ana)\"\n",
        "}\n",
        "\n",
        "# Rules\n",
        "rules = [\n",
        "    (\"HighGrades(x) ∧ StudentLeader(x) ∧ Applied(x)\", \"Eligible(x)\"),\n",
        "    (\"Eligible(x)\", \"Scholarship(x)\"),\n",
        "    (\"Scholarship(x)\", \"FinancialSupport(x)\")\n",
        "]\n",
        "\n",
        "# Forward chaining\n",
        "def forward_chain():\n",
        "    new_facts = set(facts)\n",
        "    changed = True\n",
        "\n",
        "    while changed:\n",
        "        changed = False\n",
        "        for premise, conclusion in rules:\n",
        "            for fact in list(new_facts):\n",
        "                if premise.replace(\"x\", \"Juan\") in fact:\n",
        "                    new_conclusion = conclusion.replace(\"x\", \"Juan\")\n",
        "                    if new_conclusion not in new_facts:\n",
        "                        new_facts.add(new_conclusion)\n",
        "                        changed = True\n",
        "                if premise.replace(\"x\", \"Ana\") in fact:\n",
        "                    new_conclusion = conclusion.replace(\"x\", \"Ana\")\n",
        "                    if new_conclusion not in new_facts:\n",
        "                        new_facts.add(new_conclusion)\n",
        "                        changed = True\n",
        "\n",
        "    return new_facts\n",
        "\n",
        "# Results\n",
        "final_facts = forward_chain()\n",
        "print(\"Juan facts:\", [f for f in final_facts if \"Juan\" in f])\n",
        "print(\"Ana facts:\", [f for f in final_facts if \"Ana\" in f])\n",
        "print(\"Maria not eligible: Missing Applied\")\n",
        "print(\"Carlos not eligible: Missing HighGrades\")"
      ],
      "metadata": {
        "colab": {
          "base_uri": "https://localhost:8080/"
        },
        "id": "151xzzfFiVRp",
        "outputId": "4722aa93-8608-4e69-f647-a9052de0d11c"
      },
      "execution_count": 2,
      "outputs": [
        {
          "output_type": "stream",
          "name": "stdout",
          "text": [
            "Juan facts: ['HighGrades(Juan)', 'Applied(Juan)']\n",
            "Ana facts: ['HighGrades(Ana)', 'Applied(Ana)', 'StudentLeader(Ana)']\n",
            "Maria not eligible: Missing Applied\n",
            "Carlos not eligible: Missing HighGrades\n"
          ]
        }
      ]
    },
    {
      "cell_type": "markdown",
      "source": [
        "Part 3 - Backward Chaining"
      ],
      "metadata": {
        "id": "3KiG9NjkiZng"
      }
    },
    {
      "cell_type": "code",
      "source": [
        "facts = {\n",
        "    \"HighGrades(Juan)\", \"Applied(Juan)\",\n",
        "    \"HighGrades(Maria)\", \"DidNotApply(Maria)\",\n",
        "    \"StudentLeader(Carlos)\", \"NoHighGrades(Carlos)\",\n",
        "    \"HighGrades(Ana)\", \"StudentLeader(Ana)\", \"Applied(Ana)\"\n",
        "}\n",
        "\n",
        "def prove(goal):\n",
        "    if goal in facts:\n",
        "        return True\n",
        "\n",
        "    if goal == \"Scholarship(Maria)\":\n",
        "        # Need Eligible(Maria)\n",
        "        return prove(\"Eligible(Maria)\")\n",
        "\n",
        "    elif goal == \"Eligible(Maria)\":\n",
        "        # Need HighGrades, StudentLeader, Applied\n",
        "        return (prove(\"HighGrades(Maria)\") and\n",
        "                prove(\"StudentLeader(Maria)\") and\n",
        "                prove(\"Applied(Maria)\"))\n",
        "\n",
        "    elif goal == \"FinancialSupport(Ana)\":\n",
        "        # Need Scholarship(Ana)\n",
        "        return prove(\"Scholarship(Ana)\")\n",
        "\n",
        "    elif goal == \"Scholarship(Ana)\":\n",
        "        # Need Eligible(Ana)\n",
        "        return prove(\"Eligible(Ana)\")\n",
        "\n",
        "    elif goal == \"Eligible(Ana)\":\n",
        "        # Need HighGrades, StudentLeader, Applied\n",
        "        return (prove(\"HighGrades(Ana)\") and\n",
        "                prove(\"StudentLeader(Ana)\") and\n",
        "                prove(\"Applied(Ana)\"))\n",
        "\n",
        "    return False\n",
        "\n",
        "print(\"Scholarship(Maria)?\", prove(\"Scholarship(Maria)\"))\n",
        "print(\"FinancialSupport(Ana)?\", prove(\"FinancialSupport(Ana)\"))"
      ],
      "metadata": {
        "colab": {
          "base_uri": "https://localhost:8080/"
        },
        "id": "x3Fd_fJ8idxG",
        "outputId": "abd2ccaa-622b-40b2-82c3-c8f20b0f8dbc"
      },
      "execution_count": 3,
      "outputs": [
        {
          "output_type": "stream",
          "name": "stdout",
          "text": [
            "Scholarship(Maria)? False\n",
            "FinancialSupport(Ana)? True\n"
          ]
        }
      ]
    },
    {
      "cell_type": "markdown",
      "source": [
        "Part 4 - Validity Check"
      ],
      "metadata": {
        "id": "QbUUqcZ3igx8"
      }
    },
    {
      "cell_type": "code",
      "source": [
        "# Truth table for (HighGrades ∧ StudentLeader ∧ Applied) → Eligible\n",
        "students = [\"Juan\", \"Maria\", \"Carlos\", \"Ana\"]\n",
        "properties = [\"HighGrades\", \"StudentLeader\", \"Applied\"]\n",
        "\n",
        "print(\"Student\\tHighGrades\\tStudentLeader\\tApplied\\tEligible\")\n",
        "print(\"=\"*50)\n",
        "\n",
        "for student in students:\n",
        "    hg = \"HighGrades(\" + student + \")\" in facts\n",
        "    sl = \"StudentLeader(\" + student + \")\" in facts\n",
        "    ap = \"Applied(\" + student + \")\" in facts\n",
        "    eligible = hg and sl and ap\n",
        "\n",
        "    print(f\"{student}\\t{hg}\\t\\t{sl}\\t\\t{ap}\\t{eligible}\")"
      ],
      "metadata": {
        "colab": {
          "base_uri": "https://localhost:8080/"
        },
        "id": "Q4LQxYj_ij45",
        "outputId": "4e94d91a-8337-4fff-9af6-d34b5c6e2e3b"
      },
      "execution_count": 4,
      "outputs": [
        {
          "output_type": "stream",
          "name": "stdout",
          "text": [
            "Student\tHighGrades\tStudentLeader\tApplied\tEligible\n",
            "==================================================\n",
            "Juan\tTrue\t\tFalse\t\tTrue\tFalse\n",
            "Maria\tTrue\t\tFalse\t\tFalse\tFalse\n",
            "Carlos\tFalse\t\tTrue\t\tFalse\tFalse\n",
            "Ana\tTrue\t\tTrue\t\tTrue\tTrue\n"
          ]
        }
      ]
    },
    {
      "cell_type": "markdown",
      "source": [
        "Part 5 - Reflection"
      ],
      "metadata": {
        "id": "CMYXY_Gximsx"
      }
    },
    {
      "cell_type": "markdown",
      "source": [
        "\n",
        "Logical reasoning is important in AI because it allows computers to\n",
        "make decisions based on facts and rules, not guesses. In real life,\n",
        "it helps people make fair choices by following clear steps everyone\n",
        "can understand. This prevents mistakes and makes sure decisions are\n",
        "the same for everyone in similar situations.\n"
      ],
      "metadata": {
        "id": "HL5Ey7jCi2Yb"
      }
    }
  ]
}